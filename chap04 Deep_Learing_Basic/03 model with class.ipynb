{
 "cells": [
  {
   "cell_type": "code",
   "execution_count": 2,
   "metadata": {},
   "outputs": [
    {
     "data": {
      "text/plain": [
       "<torch._C.Generator at 0x231f4657c90>"
      ]
     },
     "execution_count": 2,
     "metadata": {},
     "output_type": "execute_result"
    }
   ],
   "source": [
    "import torch\n",
    "import torch.nn as nn\n",
    "import torch.nn.functional as F\n",
    "torch.manual_seed(1)"
   ]
  },
  {
   "cell_type": "code",
   "execution_count": 3,
   "metadata": {},
   "outputs": [],
   "source": [
    "# 데이터\n",
    "x_train = torch.FloatTensor([[73, 80, 75],\n",
    "                             [93, 88, 93],\n",
    "                             [89, 91, 90],\n",
    "                             [96, 98, 100],\n",
    "                             [73, 66, 70]])\n",
    "y_train = torch.FloatTensor([[152], [185], [180], [196], [142]])"
   ]
  },
  {
   "cell_type": "code",
   "execution_count": 4,
   "metadata": {},
   "outputs": [],
   "source": [
    "class MultivariateLinearRegressionModel(nn.Module):\n",
    "    def __init__(self):\n",
    "        super().__init__() #super() 함수를 부르면 여기서 만든 클래스는 nn.Module 클래스의 속성들을 가지고 초기화\n",
    "        self.linear = nn.Linear(3,1)\n",
    "    \n",
    "    # 모델이 학습데이터를 입력받아 forward 연산을 진행시키는 함수. 이 forward() 함수는 model 객체를 데이터와 함께 호출하면 자동으로 실행됌.\n",
    "    def forward(self, x):\n",
    "        return self.linear(x)"
   ]
  },
  {
   "cell_type": "code",
   "execution_count": 5,
   "metadata": {},
   "outputs": [],
   "source": [
    "model = MultivariateLinearRegressionModel()\n",
    "optimizer = torch.optim.SGD(model.parameters(), lr=1e-5)"
   ]
  },
  {
   "cell_type": "code",
   "execution_count": 7,
   "metadata": {},
   "outputs": [
    {
     "name": "stdout",
     "output_type": "stream",
     "text": [
      "Epoch:    0/2000 Cost: 31667.599609\n",
      "Epoch:  100/2000 Cost: 0.225993\n",
      "Epoch:  200/2000 Cost: 0.223911\n",
      "Epoch:  300/2000 Cost: 0.221941\n",
      "Epoch:  400/2000 Cost: 0.220059\n",
      "Epoch:  500/2000 Cost: 0.218271\n",
      "Epoch:  600/2000 Cost: 0.216575\n",
      "Epoch:  700/2000 Cost: 0.214950\n",
      "Epoch:  800/2000 Cost: 0.213413\n",
      "Epoch:  900/2000 Cost: 0.211952\n",
      "Epoch: 1000/2000 Cost: 0.210559\n",
      "Epoch: 1100/2000 Cost: 0.209230\n",
      "Epoch: 1200/2000 Cost: 0.207967\n",
      "Epoch: 1300/2000 Cost: 0.206762\n",
      "Epoch: 1400/2000 Cost: 0.205618\n",
      "Epoch: 1500/2000 Cost: 0.204529\n",
      "Epoch: 1600/2000 Cost: 0.203481\n",
      "Epoch: 1700/2000 Cost: 0.202486\n",
      "Epoch: 1800/2000 Cost: 0.201539\n",
      "Epoch: 1900/2000 Cost: 0.200634\n",
      "Epoch: 2000/2000 Cost: 0.199770\n"
     ]
    }
   ],
   "source": [
    "epochs = 2000\n",
    "for epoch in range(epochs + 1):\n",
    "\n",
    "    # H(x) 계산\n",
    "    pred = model(x_train)  # model(x_train)은 model.forward(x_train)와 동일 \n",
    "    \n",
    "    # cost 계산\n",
    "    cost = F.mse_loss(pred, y_train)\n",
    "    \n",
    "    optimizer.zero_grad()\n",
    "    cost.backward()\n",
    "    optimizer.step()\n",
    "    \n",
    "    if epoch % 100 == 0:\n",
    "        print(f'Epoch: {epoch:4d}/{epochs} Cost: {cost.item():.6f}')"
   ]
  }
 ],
 "metadata": {
  "kernelspec": {
   "display_name": "pt_book",
   "language": "python",
   "name": "pt_book"
  },
  "language_info": {
   "codemirror_mode": {
    "name": "ipython",
    "version": 3
   },
   "file_extension": ".py",
   "mimetype": "text/x-python",
   "name": "python",
   "nbconvert_exporter": "python",
   "pygments_lexer": "ipython3",
   "version": "3.9.0"
  }
 },
 "nbformat": 4,
 "nbformat_minor": 2
}
