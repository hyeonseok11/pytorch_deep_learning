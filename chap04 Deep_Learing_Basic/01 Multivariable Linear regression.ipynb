{
 "cells": [
  {
   "cell_type": "code",
   "execution_count": 1,
   "metadata": {},
   "outputs": [
    {
     "data": {
      "text/plain": [
       "<torch._C.Generator at 0x1c32c00dc10>"
      ]
     },
     "execution_count": 1,
     "metadata": {},
     "output_type": "execute_result"
    }
   ],
   "source": [
    "import torch \n",
    "import torch.nn as nn \n",
    "import torch.nn.functional as F \n",
    "import torch.optim as optim\n",
    "\n",
    "torch.manual_seed(1)"
   ]
  },
  {
   "cell_type": "code",
   "execution_count": 2,
   "metadata": {},
   "outputs": [],
   "source": [
    "x1_train = torch.FloatTensor([[73], [93], [89], [96], [73]])\n",
    "x2_train = torch.FloatTensor([[80], [88], [91], [98], [66]])\n",
    "x3_train = torch.FloatTensor([[75], [93], [90], [100], [70]])\n",
    "y_train = torch.FloatTensor([[152], [185], [180], [196], [142]])"
   ]
  },
  {
   "cell_type": "code",
   "execution_count": 3,
   "metadata": {},
   "outputs": [],
   "source": [
    "# 가중치 w와 편향 b 초기화\n",
    "w1 = torch.zeros(1, requires_grad=True)\n",
    "w2 = torch.zeros(1, requires_grad=True)\n",
    "w3 = torch.zeros(1, requires_grad=True)\n",
    "b = torch.zeros(1, requires_grad=True)"
   ]
  },
  {
   "cell_type": "markdown",
   "metadata": {},
   "source": [
    " 학습 단계에서 최적의 매개변수를 찾아내는 것이 옵티마이저의 역할. 여기서 최적이란, 손실 함수가 최솟값이 될 때의 매개변수 값을 의미함.\n",
    " 그러나 일반적인 문제의 손실 함수는 매우 복잡함. 이런 상황에서 기울기를 잘 이용하여 함수의 최솟값을 찾는 것이 바로 옵티마이저."
   ]
  },
  {
   "cell_type": "markdown",
   "metadata": {},
   "source": [
    "잔차를 줄이기 위해 파라미터를 업데이트 할 때에는 해당 파라미터가 얼마나 output에 영향을 주어 오차를 만들어 냈는지가 필요하다. \n",
    "역전파에서는 이를 위해서 순전파에서 거친 prediction과 target의 오차함수 f(Error)를 간단히 h=a*W+b 형태로 표현할 때 Weight에 대해 편미분하여 오차에 끼친 영향,\n",
    "즉 변화량 a를 구하여 파라미터를 업데이트 한다. (여러개의 순차적인 nested function들을 통해 변화한 변화율들을 모두 구해 업데이트)"
   ]
  },
  {
   "cell_type": "code",
   "execution_count": 4,
   "metadata": {},
   "outputs": [
    {
     "name": "stdout",
     "output_type": "stream",
     "text": [
      "Epoch    0/1000 w1: 0.294012 w2: 0.293600 w3: 0.297380 b: 0.003420 Cost: 29661.800781\n",
      "Epoch  100/1000 w1: 0.673507 w2: 0.660968 w3: 0.676231 b: 0.007920 Cost: 1.563634\n",
      "Epoch  200/1000 w1: 0.678946 w2: 0.654962 w3: 0.676784 b: 0.008070 Cost: 1.497607\n",
      "Epoch  300/1000 w1: 0.684251 w2: 0.649122 w3: 0.677305 b: 0.008219 Cost: 1.435026\n",
      "Epoch  400/1000 w1: 0.689426 w2: 0.643444 w3: 0.677795 b: 0.008367 Cost: 1.375730\n",
      "Epoch  500/1000 w1: 0.694474 w2: 0.637923 w3: 0.678255 b: 0.008514 Cost: 1.319511\n",
      "Epoch  600/1000 w1: 0.699398 w2: 0.632556 w3: 0.678686 b: 0.008659 Cost: 1.266222\n",
      "Epoch  700/1000 w1: 0.704202 w2: 0.627338 w3: 0.679088 b: 0.008804 Cost: 1.215696\n",
      "Epoch  800/1000 w1: 0.708889 w2: 0.622266 w3: 0.679464 b: 0.008948 Cost: 1.167818\n",
      "Epoch  900/1000 w1: 0.713462 w2: 0.617334 w3: 0.679811 b: 0.009090 Cost: 1.122429\n",
      "Epoch 1000/1000 w1: 0.717924 w2: 0.612539 w3: 0.680133 b: 0.009232 Cost: 1.079378\n"
     ]
    }
   ],
   "source": [
    "#optimizer 설정\n",
    "optimizer = optim.SGD([w1, w2, w3, b], lr=1e-5)\n",
    "\n",
    "epochs = 1000\n",
    "for epoch in range(epochs + 1):\n",
    "    \n",
    "    # H(x) 가설 계산\n",
    "    hx = x1_train * w1 + x2_train * w2 + x3_train * w3 + b\n",
    "    \n",
    "    # cost 계산 <= 순전파(Feedforward)를 통해 최종 출력값과 실제값의 오차를 확인\n",
    "    cost = torch.mean((hx - y_train)**2)\n",
    "    \n",
    "    # cost로 H(x) 개선\n",
    "    optimizer.zero_grad() # 기울기 0으로 초기화\n",
    "    cost.backward()       # 역전파 단계(backward pass), 파라미터들의 에러에 대한 변화도를 계산하여 누적함\n",
    "    optimizer.step()      # optimizer에게 cost function를 효율적으로 최소화 할 수 있게 파라미터 업데이트 요청 \n",
    "    \n",
    "    # 100번마다 로그 출력 \n",
    "    if epoch % 100 == 0:\n",
    "        print(f'Epoch {epoch:4d}/{epochs} w1: {w1.item():3f} w2: {w2.item():3f} w3: {w3.item():3f} b: {b.item():3f} Cost: {cost.item():.6f}')\n"
   ]
  },
  {
   "cell_type": "code",
   "execution_count": 5,
   "metadata": {},
   "outputs": [],
   "source": [
    "# 행렬 연산을 통한 구현\n",
    "# 훈련 데이터 또한 행렬로 선언\n",
    "x_train  =  torch.FloatTensor([[73,  80,  75], \n",
    "                               [93,  88,  93], \n",
    "                               [89,  91,  80], \n",
    "                               [96,  98,  100],   \n",
    "                               [73,  66,  70]])  \n",
    "y_train  =  torch.FloatTensor([[152],  [185],  [180],  [196],  [142]])"
   ]
  },
  {
   "cell_type": "code",
   "execution_count": 6,
   "metadata": {},
   "outputs": [
    {
     "name": "stdout",
     "output_type": "stream",
     "text": [
      "torch.Size([5, 3])\n",
      "torch.Size([5, 1])\n"
     ]
    }
   ],
   "source": [
    "print(x_train.shape)\n",
    "print(y_train.shape)"
   ]
  },
  {
   "cell_type": "code",
   "execution_count": 8,
   "metadata": {},
   "outputs": [],
   "source": [
    "# 가중치와 편향 선언\n",
    "W = torch.zeros((3, 1), requires_grad=True) # 행렬곱이 가능하도록 \n",
    "b = torch.zeros(1, requires_grad=True)\n",
    "# optimizer 설정\n",
    "optimizer = optim.SGD([W, b], lr=1e-5)"
   ]
  },
  {
   "cell_type": "code",
   "execution_count": 9,
   "metadata": {},
   "outputs": [
    {
     "name": "stdout",
     "output_type": "stream",
     "text": [
      "Epoch    0/1000 hx: tensor([0., 0., 0., 0., 0.]) Cost: 29661.800781\n",
      "Epoch    1/1000 hx: tensor([66.7178, 80.1701, 76.1025, 86.0194, 61.1565]) Cost: 9537.694336\n",
      "Epoch    2/1000 hx: tensor([104.5421, 125.6208, 119.2478, 134.7861,  95.8280]) Cost: 3069.590820\n",
      "Epoch    3/1000 hx: tensor([125.9858, 151.3882, 143.7087, 162.4333, 115.4844]) Cost: 990.670288\n",
      "Epoch    4/1000 hx: tensor([138.1429, 165.9963, 157.5768, 178.1071, 126.6283]) Cost: 322.481873\n",
      "Epoch    5/1000 hx: tensor([145.0350, 174.2780, 165.4395, 186.9928, 132.9461]) Cost: 107.717064\n",
      "Epoch    6/1000 hx: tensor([148.9423, 178.9730, 169.8976, 192.0301, 136.5279]) Cost: 38.687496\n",
      "Epoch    7/1000 hx: tensor([151.1574, 181.6346, 172.4254, 194.8856, 138.5585]) Cost: 16.499043\n",
      "Epoch    8/1000 hx: tensor([152.4131, 183.1435, 173.8590, 196.5043, 139.7097]) Cost: 9.365656\n",
      "Epoch    9/1000 hx: tensor([153.1250, 183.9988, 174.6723, 197.4217, 140.3625]) Cost: 7.071114\n",
      "Epoch   10/1000 hx: tensor([153.5285, 184.4835, 175.1338, 197.9415, 140.7325]) Cost: 6.331847\n",
      "Epoch   11/1000 hx: tensor([153.7572, 184.7582, 175.3958, 198.2360, 140.9424]) Cost: 6.092532\n",
      "Epoch   12/1000 hx: tensor([153.8868, 184.9138, 175.5449, 198.4026, 141.0613]) Cost: 6.013817\n",
      "Epoch   13/1000 hx: tensor([153.9602, 185.0019, 175.6299, 198.4969, 141.1288]) Cost: 5.986785\n",
      "Epoch   14/1000 hx: tensor([154.0017, 185.0517, 175.6785, 198.5500, 141.1671]) Cost: 5.976325\n",
      "Epoch   15/1000 hx: tensor([154.0252, 185.0798, 175.7065, 198.5800, 141.1888]) Cost: 5.971208\n",
      "Epoch   16/1000 hx: tensor([154.0385, 185.0956, 175.7229, 198.5966, 141.2012]) Cost: 5.967835\n",
      "Epoch   17/1000 hx: tensor([154.0459, 185.1045, 175.7326, 198.6059, 141.2082]) Cost: 5.964969\n",
      "Epoch   18/1000 hx: tensor([154.0501, 185.1094, 175.7386, 198.6108, 141.2122]) Cost: 5.962291\n",
      "Epoch   19/1000 hx: tensor([154.0524, 185.1120, 175.7424, 198.6134, 141.2145]) Cost: 5.959664\n",
      "Epoch   20/1000 hx: tensor([154.0536, 185.1134, 175.7451, 198.6145, 141.2158]) Cost: 5.957089\n"
     ]
    }
   ],
   "source": [
    "nb_epochs = 20\n",
    "for epoch in range(nb_epochs + 1):\n",
    "    \n",
    "    # 행렬곱을 통한 가설 선언\n",
    "    # 편향 b는 브로드 캐스팅되어 각 샘플에 더해짐 \n",
    "    hx = x_train.matmul(W) + b\n",
    "\n",
    "    # cost 계산\n",
    "    cost = torch.mean((hx - y_train) ** 2)\n",
    "\n",
    "    # cost로 H(x) 개선\n",
    "    optimizer.zero_grad()\n",
    "    cost.backward()\n",
    "    optimizer.step()\n",
    "\n",
    "    print(f'Epoch {epoch:4d}/{epochs} hx: {hx.squeeze().detach()} Cost: {cost.item():.6f}')"
   ]
  }
 ],
 "metadata": {
  "kernelspec": {
   "display_name": "pt_book",
   "language": "python",
   "name": "pt_book"
  },
  "language_info": {
   "codemirror_mode": {
    "name": "ipython",
    "version": 3
   },
   "file_extension": ".py",
   "mimetype": "text/x-python",
   "name": "python",
   "nbconvert_exporter": "python",
   "pygments_lexer": "ipython3",
   "version": "3.9.0"
  }
 },
 "nbformat": 4,
 "nbformat_minor": 2
}
