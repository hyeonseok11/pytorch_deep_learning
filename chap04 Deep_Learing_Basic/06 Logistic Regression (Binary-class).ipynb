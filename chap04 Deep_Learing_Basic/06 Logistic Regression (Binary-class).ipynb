{
 "cells": [
  {
   "cell_type": "code",
   "execution_count": 2,
   "metadata": {},
   "outputs": [
    {
     "data": {
      "text/plain": [
       "<torch._C.Generator at 0x1ab4f8b7cb0>"
      ]
     },
     "execution_count": 2,
     "metadata": {},
     "output_type": "execute_result"
    }
   ],
   "source": [
    "import torch\n",
    "import torch.nn as nn\n",
    "import torch.nn.functional as F\n",
    "import torch.optim as optim\n",
    "\n",
    "torch.manual_seed(1)"
   ]
  },
  {
   "cell_type": "code",
   "execution_count": 7,
   "metadata": {},
   "outputs": [],
   "source": [
    "# 훈련 데이터를 텐서로 선언 \n",
    "x_data = [[1, 2], [2, 3], [3, 1], [4, 3], [5, 3], [6, 2]]\n",
    "y_data = [[0], [0], [0], [1], [1], [1]]\n",
    "x_train = torch.FloatTensor(x_data)\n",
    "y_train = torch.FloatTensor(y_data)"
   ]
  },
  {
   "cell_type": "code",
   "execution_count": 5,
   "metadata": {},
   "outputs": [],
   "source": [
    "# nn.sequential을 이용한 모델 정의 => nn.Module 층을 차례로 쌓을 수 있도록 함. 여러 함수들 연결\n",
    "model = nn.Sequential(\n",
    "    nn.Linear(2,1), # input_dim = 2, output_dim = 1\n",
    "    nn.Sigmoid() # 출력\n",
    ")"
   ]
  },
  {
   "cell_type": "code",
   "execution_count": 8,
   "metadata": {},
   "outputs": [
    {
     "data": {
      "text/plain": [
       "tensor([[0.3600],\n",
       "        [0.2872],\n",
       "        [0.6801],\n",
       "        [0.4389],\n",
       "        [0.5216],\n",
       "        [0.7473]], grad_fn=<SigmoidBackward>)"
      ]
     },
     "execution_count": 8,
     "metadata": {},
     "output_type": "execute_result"
    }
   ],
   "source": [
    "model(x_train)"
   ]
  },
  {
   "cell_type": "markdown",
   "metadata": {},
   "source": [
    "엔트로피 => 혼란도가 높으면 1, 없으면 0인 개념을 이용 \n",
    "크로스 엔트로피는, 모델에서 예측한 확률값이 실제값과 비교했을 때 틀릴 수 있는 정보량을 의미\n",
    "딥러닝의 손실함수로 많이 사용되는 개념으로 딥러닝 모델에선 예측값과 정답값의 크로스 엔트로피 값을 줄이기 위해 \n",
    "가중치와 편향을 업데이트하며 학습을 수행"
   ]
  },
  {
   "cell_type": "code",
   "execution_count": 10,
   "metadata": {},
   "outputs": [
    {
     "name": "stdout",
     "output_type": "stream",
     "text": [
      "Epoch:    0/1000 Cost: 0.614994 Accuracy 66.67%\n",
      "Epoch:  100/1000 Cost: 0.140280 Accuracy 100.00%\n",
      "Epoch:  200/1000 Cost: 0.082549 Accuracy 100.00%\n",
      "Epoch:  300/1000 Cost: 0.058858 Accuracy 100.00%\n",
      "Epoch:  400/1000 Cost: 0.045878 Accuracy 100.00%\n",
      "Epoch:  500/1000 Cost: 0.037649 Accuracy 100.00%\n",
      "Epoch:  600/1000 Cost: 0.031951 Accuracy 100.00%\n",
      "Epoch:  700/1000 Cost: 0.027766 Accuracy 100.00%\n",
      "Epoch:  800/1000 Cost: 0.024558 Accuracy 100.00%\n",
      "Epoch:  900/1000 Cost: 0.022020 Accuracy 100.00%\n",
      "Epoch: 1000/1000 Cost: 0.019960 Accuracy 100.00%\n"
     ]
    }
   ],
   "source": [
    "optimizer = optim.SGD(model.parameters(), lr = 1)\n",
    "\n",
    "epochs = 1000\n",
    "for epoch in range(epochs + 1):\n",
    "    \n",
    "    pred = model(x_train)\n",
    "    cost = F.binary_cross_entropy(pred, y_train)\n",
    "    \n",
    "    optimizer.zero_grad()\n",
    "    cost.backward()\n",
    "    optimizer.step()\n",
    "    \n",
    "    if epoch % 100 == 0:\n",
    "        prediction = pred >= torch.FloatTensor([0.5]) # 예측값이 0.5를 넘으면 True\n",
    "        correct_prediction = prediction.float() == y_train # 실제값과 일치하는 경우만 True로 간주\n",
    "        acc = correct_prediction.sum().item() / len(correct_prediction) # 정확도를 계산\n",
    "        print(f'Epoch: {epoch:4d}/{epochs} Cost: {cost.item():.6f} Accuracy {acc*100:2.2f}%')\n",
    "    "
   ]
  },
  {
   "cell_type": "code",
   "execution_count": 11,
   "metadata": {},
   "outputs": [],
   "source": [
    "# 클래스로 모델 구현 \n",
    "class BinaryClassifier(nn.Module):\n",
    "    def __init__(self): \n",
    "        super().__init__()\n",
    "        self.linear = nn.Linear(2,1)\n",
    "        self.sigmoid = nn.Sigmoid()\n",
    "        \n",
    "    def forward(self, x):\n",
    "        return self.sigmoid(self.linear(x))        "
   ]
  },
  {
   "cell_type": "code",
   "execution_count": 12,
   "metadata": {},
   "outputs": [],
   "source": [
    "model = BinaryClassifier()"
   ]
  },
  {
   "cell_type": "code",
   "execution_count": 13,
   "metadata": {},
   "outputs": [
    {
     "name": "stdout",
     "output_type": "stream",
     "text": [
      "Epoch:    0/1000 Cost: 0.778947 Accuracy 33.33%\n",
      "Epoch:  100/1000 Cost: 0.134716 Accuracy 100.00%\n",
      "Epoch:  200/1000 Cost: 0.080641 Accuracy 100.00%\n",
      "Epoch:  300/1000 Cost: 0.057899 Accuracy 100.00%\n",
      "Epoch:  400/1000 Cost: 0.045299 Accuracy 100.00%\n",
      "Epoch:  500/1000 Cost: 0.037261 Accuracy 100.00%\n",
      "Epoch:  600/1000 Cost: 0.031672 Accuracy 100.00%\n",
      "Epoch:  700/1000 Cost: 0.027556 Accuracy 100.00%\n",
      "Epoch:  800/1000 Cost: 0.024394 Accuracy 100.00%\n",
      "Epoch:  900/1000 Cost: 0.021888 Accuracy 100.00%\n",
      "Epoch: 1000/1000 Cost: 0.019852 Accuracy 100.00%\n"
     ]
    }
   ],
   "source": [
    "optimizer = optim.SGD(model.parameters(), lr=1)\n",
    "\n",
    "epochs = 1000\n",
    "for epoch in range(epochs + 1):\n",
    "    \n",
    "    pred = model(x_train)\n",
    "    cost = F.binary_cross_entropy(pred, y_train)\n",
    "    \n",
    "    optimizer.zero_grad()\n",
    "    cost.backward()\n",
    "    optimizer.step()\n",
    "    \n",
    "    if epoch % 100 == 0:\n",
    "        prediction = pred >= torch.FloatTensor([0.5]) # 예측값이 0.5를 넘으면 True\n",
    "        correct_prediction = prediction.float() == y_train # 실제값과 일치하는 경우만 True로 간주\n",
    "        acc = correct_prediction.sum().item() / len(correct_prediction) # 정확도를 계산\n",
    "        print(f'Epoch: {epoch:4d}/{epochs} Cost: {cost.item():.6f} Accuracy {acc*100:2.2f}%')\n"
   ]
  }
 ],
 "metadata": {
  "kernelspec": {
   "display_name": "pt_book",
   "language": "python",
   "name": "pt_book"
  },
  "language_info": {
   "codemirror_mode": {
    "name": "ipython",
    "version": 3
   },
   "file_extension": ".py",
   "mimetype": "text/x-python",
   "name": "python",
   "nbconvert_exporter": "python",
   "pygments_lexer": "ipython3",
   "version": "3.9.0"
  }
 },
 "nbformat": 4,
 "nbformat_minor": 2
}
