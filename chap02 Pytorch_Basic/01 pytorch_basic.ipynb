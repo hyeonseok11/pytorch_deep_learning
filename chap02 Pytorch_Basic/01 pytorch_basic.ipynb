{
 "cells": [
  {
   "cell_type": "code",
   "execution_count": 3,
   "metadata": {},
   "outputs": [
    {
     "name": "stdout",
     "output_type": "stream",
     "text": [
      "tensor([[1, 2],\n",
      "        [3, 4]])\n",
      "tensor([[1, 2],\n",
      "        [3, 4]], device='cuda:0')\n",
      "tensor([[1., 2.],\n",
      "        [3., 4.]], dtype=torch.float64)\n"
     ]
    }
   ],
   "source": [
    "#텐서 생성 및 변환\n",
    "import torch\n",
    "print(torch.tensor([[1,2],[3,4]]))\n",
    "print(torch.tensor([[1,2],[3,4]], device=\"cuda:0\")) #gpu에 텐서 생성\n",
    "print(torch.tensor([[1,2],[3,4]], dtype=torch.float64)) #dtype 이용해 텐서 생성"
   ]
  },
  {
   "cell_type": "code",
   "execution_count": 5,
   "metadata": {},
   "outputs": [
    {
     "name": "stdout",
     "output_type": "stream",
     "text": [
      "[[1 2]\n",
      " [3 4]]\n",
      "[[1 2]\n",
      " [3 4]]\n"
     ]
    }
   ],
   "source": [
    "temp = torch.tensor([[1,2],[3,4]])\n",
    "print(temp.numpy()) #텐서 ndarray로 변경\n",
    "\n",
    "temp = torch.tensor([[1,2],[3,4]], device=\"cuda:0\")\n",
    "print(temp.to(\"cpu\").numpy()) # gpu상의 텐서를 cpu의 텐서로 변환후 ndarray로 변환"
   ]
  },
  {
   "cell_type": "code",
   "execution_count": 6,
   "metadata": {},
   "outputs": [
    {
     "name": "stdout",
     "output_type": "stream",
     "text": [
      "tensor(1.) tensor(2.) tensor(7.)\n",
      "tensor([3., 4., 5.]) tensor([5., 6.])\n"
     ]
    }
   ],
   "source": [
    "#텐서 인덱스 조작\n",
    "temp = torch.FloatTensor([1,2,3,4,5,6,7])\n",
    "print(temp[0],temp[1],temp[-1]) #인덱스 접근``\n",
    "print(temp[2:5], temp[4:-1]) #슬라이싱"
   ]
  },
  {
   "cell_type": "code",
   "execution_count": 7,
   "metadata": {},
   "outputs": [
    {
     "name": "stdout",
     "output_type": "stream",
     "text": [
      "tensor([-2, -2, -2])\n"
     ]
    }
   ],
   "source": [
    "#텐서 연산\n",
    "#텐서간 타입이 다르면 연산이 불가능하니 주의하자\n",
    "\n",
    "v = torch.tensor([1,2,3])\n",
    "w = torch.tensor([3,4,5])\n",
    "print(v-w)"
   ]
  },
  {
   "cell_type": "code",
   "execution_count": 6,
   "metadata": {},
   "outputs": [
    {
     "name": "stdout",
     "output_type": "stream",
     "text": [
      "torch.Size([2, 2])\n",
      "tensor([[1],\n",
      "        [2],\n",
      "        [3],\n",
      "        [4]])\n",
      "tensor([1, 2, 3, 4])\n",
      "tensor([[1],\n",
      "        [2],\n",
      "        [3],\n",
      "        [4]])\n",
      "tensor([[1],\n",
      "        [2],\n",
      "        [3],\n",
      "        [4]])\n"
     ]
    }
   ],
   "source": [
    "#텐서 차원조작\n",
    "temp = torch.tensor([[1,2],[3,4]])\n",
    "\n",
    "print(temp.shape)\n",
    "print(temp.view(4,1)) # 4x1 행렬로 변경\n",
    "print(temp.view(-1))  # 1차원 벡터로 변경\n",
    "print(temp.view(4,-1)) # 자동으로 행에 맞는 열로 변경\n",
    "print(temp.view(-1,1)) # 자동으로 열에 맞는 행으로 변경"
   ]
  }
 ],
 "metadata": {
  "kernelspec": {
   "display_name": "pt_book",
   "language": "python",
   "name": "pt_book"
  },
  "language_info": {
   "codemirror_mode": {
    "name": "ipython",
    "version": 3
   },
   "file_extension": ".py",
   "mimetype": "text/x-python",
   "name": "python",
   "nbconvert_exporter": "python",
   "pygments_lexer": "ipython3",
   "version": "3.9.0"
  },
  "orig_nbformat": 4
 },
 "nbformat": 4,
 "nbformat_minor": 2
}
